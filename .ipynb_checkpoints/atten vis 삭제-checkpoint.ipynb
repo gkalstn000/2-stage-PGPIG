{
 "cells": [
  {
   "cell_type": "code",
   "execution_count": null,
   "id": "ec4acd4d",
   "metadata": {},
   "outputs": [],
   "source": [
    "import numpy as np\n",
    "import os\n",
    "from PIL import Image\n",
    "from tqdm import tqdm\n",
    "import pandas as pd\n",
    "from collections import defaultdict\n",
    "import util.util as util\n",
    "from metrics.networks import preprocess_path_for_deform_task\n",
    "import cv2\n",
    "\n",
    "def get_concat_h(imgs):\n",
    "    width, height = imgs[0].size\n",
    "    dst = Image.new('RGB', (width * len(imgs), height))\n",
    "    for i, img in enumerate(imgs) :\n",
    "        dst.paste(img, (i*width, 0))\n",
    "    return dst\n",
    "\n",
    "def get_concat_v(im1, im2):\n",
    "    dst = Image.new('RGB', (im1.width, im1.height + im2.height))\n",
    "    dst.paste(im1, (0, 0))\n",
    "    dst.paste(im2, (0, im1.height))\n",
    "    return dst\n",
    "\n",
    "def overlay(img, weight) :\n",
    "    added_image = cv2.addWeighted(np.array(img),0.3,np.array(weight.convert('RGB')),1,0)\n",
    "    return Image.fromarray(added_image)\n",
    "\n",
    "attention_root = './attention_map'\n",
    "image_root = 'datasets/fashion'\n",
    "result_root = './results'\n",
    "\n",
    "attention_folders = ['DPTN_higher', 'DPTN_higher_spade', 'DPTN_higher_spade_109_can']\n",
    "\n",
    "gt_dict, distorated_dict = preprocess_path_for_deform_task(os.path.join(image_root, 'test'), os.path.join(result_root, 'DPTN_higher'))"
   ]
  },
  {
   "cell_type": "code",
   "execution_count": null,
   "id": "c295ae47",
   "metadata": {},
   "outputs": [],
   "source": [
    "for num in tqdm(distorated_dict.keys()) :\n",
    "    fake_path_list = distorated_dict[num]\n",
    "    for fake_img_path in fake_path_list :\n",
    "        fake_img_name = fake_img_path.split('/')"
   ]
  }
 ],
 "metadata": {
  "kernelspec": {
   "display_name": "Python 3 (ipykernel)",
   "language": "python",
   "name": "python3"
  },
  "language_info": {
   "codemirror_mode": {
    "name": "ipython",
    "version": 3
   },
   "file_extension": ".py",
   "mimetype": "text/x-python",
   "name": "python",
   "nbconvert_exporter": "python",
   "pygments_lexer": "ipython3",
   "version": "3.8.0"
  }
 },
 "nbformat": 4,
 "nbformat_minor": 5
}
